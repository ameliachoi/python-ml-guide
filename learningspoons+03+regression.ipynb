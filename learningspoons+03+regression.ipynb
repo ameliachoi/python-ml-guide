{
  "nbformat": 4,
  "nbformat_minor": 0,
  "metadata": {
    "colab": {
      "name": "learningspoons+03+regression.ipynb",
      "provenance": [],
      "mount_file_id": "1z9MxSpJvlHFyUmXzAG7xKJ5rnm9w0Vnh",
      "authorship_tag": "ABX9TyNCvMFnskkwPlBQjHXnXrcV",
      "include_colab_link": true
    },
    "kernelspec": {
      "name": "python3",
      "display_name": "Python 3"
    }
  },
  "cells": [
    {
      "cell_type": "markdown",
      "metadata": {
        "id": "view-in-github",
        "colab_type": "text"
      },
      "source": [
        "<a href=\"https://colab.research.google.com/github/ameliachoi/python-ml-guide/blob/main/learningspoons%2B03%2Bregression.ipynb\" target=\"_parent\"><img src=\"https://colab.research.google.com/assets/colab-badge.svg\" alt=\"Open In Colab\"/></a>"
      ]
    },
    {
      "cell_type": "markdown",
      "metadata": {
        "id": "sZioCxKpsXle"
      },
      "source": [
        "# 03. Regression 회귀\n",
        "\n",
        "## Regression list\n",
        "\n",
        "* Linear Regression\n",
        "* Ridge Linear Regression (L1)\n",
        "* Lasso Linear Regression (L2)\n",
        "\n",
        "* MLP Regression\n",
        "* Support Vector Machine Regression\n",
        "* RandomForest Regression\n",
        "* XGBoost Regression\n",
        "* LGBM Regression\n",
        "\n",
        "## Evaluation \n",
        "\n",
        "* R-square\n",
        "* MAE, MSE, RMSE"
      ]
    },
    {
      "cell_type": "markdown",
      "metadata": {
        "id": "6M9Kx1m_tWad"
      },
      "source": [
        "---"
      ]
    },
    {
      "cell_type": "code",
      "metadata": {
        "id": "aRIWDcxRtY4_",
        "outputId": "a9d1b7d8-e572-4d0f-ac93-3e8a8155643a",
        "colab": {
          "base_uri": "https://localhost:8080/",
          "height": 34
        }
      },
      "source": [
        "cd '/content/drive/My Drive'"
      ],
      "execution_count": 1,
      "outputs": [
        {
          "output_type": "stream",
          "text": [
            "/content/drive/My Drive\n"
          ],
          "name": "stdout"
        }
      ]
    },
    {
      "cell_type": "code",
      "metadata": {
        "id": "fYIXNGrHt3aT"
      },
      "source": [
        "import os\n",
        "from os.path import join\n",
        "import copy\n",
        "import warnings\n",
        "warnings.filterwarnings('ignore')\n",
        "\n",
        "import numpy as np\n",
        "import pandas as pd\n",
        "import sklearn\n",
        "import matplotlib.pyplot as plt"
      ],
      "execution_count": 2,
      "outputs": []
    },
    {
      "cell_type": "code",
      "metadata": {
        "id": "NbSNWfrDtdf6"
      },
      "source": [
        "train = join('FIFA', 'train.csv')\n",
        "test = join('FIFA', 'test.csv')"
      ],
      "execution_count": 3,
      "outputs": []
    },
    {
      "cell_type": "code",
      "metadata": {
        "id": "yaUlldufuHQB"
      },
      "source": [
        "data = pd.read_csv(train)\n",
        "label = data['value']\n",
        "\n",
        "x_test = pd.read_csv(test)"
      ],
      "execution_count": 4,
      "outputs": []
    },
    {
      "cell_type": "markdown",
      "metadata": {
        "id": "QMSorag8txQI"
      },
      "source": [
        "#### 데이터 정보\n",
        "    FIFA_train.csv : 축구선수의 정보와 능력치 그리고 이적시장 가격이 포함된 데이터\n",
        "    FIFA_test.csv : 축구선수의 정보와 능력치가 포함된 데이터 해당 데이터의 선수들의 이적료를 예측해 주시면 됩니다.\n",
        "    submission.csv : 답안지의 형식\n",
        "\n",
        "    id : 선수 고유의 아이디\n",
        "    name : 이름\n",
        "    age : 나이\n",
        "    continent : 선수들의 국적이 포함되어 있는 대륙입니다\n",
        "    contract_until : 선수의 계약기간이 언제까지인지 나타내어 줍니다\n",
        "    position : 선수가 선호하는 포지션입니다. ex) 공격수, 수비수 등\n",
        "    prefer_foot : 선수가 선호하는 발입니다. ex) 오른발\n",
        "    reputation : 선수가 유명한 정도입니다. ex) 높은 수치일 수록 유명한 선수\n",
        "    stat_overall : 선수의 현재 능력치 입니다.\n",
        "    stat_potential : 선수가 경험 및 노력을 통해 발전할 수 있는 정도입니다.\n",
        "    stat_skill_moves : 선수의 개인기 능력치 입니다.\n",
        "    value : FIFA가 선정한 선수의 이적 시장 가격 (단위 : 유로) 입니다."
      ]
    },
    {
      "cell_type": "code",
      "metadata": {
        "id": "30ASJmpxuOZo",
        "outputId": "a36896f5-1dc6-4f4d-f94f-614e97daa351",
        "colab": {
          "base_uri": "https://localhost:8080/",
          "height": 213
        }
      },
      "source": [
        "data.head(3)"
      ],
      "execution_count": 5,
      "outputs": [
        {
          "output_type": "execute_result",
          "data": {
            "text/html": [
              "<div>\n",
              "<style scoped>\n",
              "    .dataframe tbody tr th:only-of-type {\n",
              "        vertical-align: middle;\n",
              "    }\n",
              "\n",
              "    .dataframe tbody tr th {\n",
              "        vertical-align: top;\n",
              "    }\n",
              "\n",
              "    .dataframe thead th {\n",
              "        text-align: right;\n",
              "    }\n",
              "</style>\n",
              "<table border=\"1\" class=\"dataframe\">\n",
              "  <thead>\n",
              "    <tr style=\"text-align: right;\">\n",
              "      <th></th>\n",
              "      <th>id</th>\n",
              "      <th>name</th>\n",
              "      <th>age</th>\n",
              "      <th>continent</th>\n",
              "      <th>contract_until</th>\n",
              "      <th>position</th>\n",
              "      <th>prefer_foot</th>\n",
              "      <th>reputation</th>\n",
              "      <th>stat_overall</th>\n",
              "      <th>stat_potential</th>\n",
              "      <th>stat_skill_moves</th>\n",
              "      <th>value</th>\n",
              "    </tr>\n",
              "  </thead>\n",
              "  <tbody>\n",
              "    <tr>\n",
              "      <th>0</th>\n",
              "      <td>0</td>\n",
              "      <td>L. Messi</td>\n",
              "      <td>31</td>\n",
              "      <td>south america</td>\n",
              "      <td>2021</td>\n",
              "      <td>ST</td>\n",
              "      <td>left</td>\n",
              "      <td>5.0</td>\n",
              "      <td>94</td>\n",
              "      <td>94</td>\n",
              "      <td>4.0</td>\n",
              "      <td>110500000.0</td>\n",
              "    </tr>\n",
              "    <tr>\n",
              "      <th>1</th>\n",
              "      <td>3</td>\n",
              "      <td>De Gea</td>\n",
              "      <td>27</td>\n",
              "      <td>europe</td>\n",
              "      <td>2020</td>\n",
              "      <td>GK</td>\n",
              "      <td>right</td>\n",
              "      <td>4.0</td>\n",
              "      <td>91</td>\n",
              "      <td>93</td>\n",
              "      <td>1.0</td>\n",
              "      <td>72000000.0</td>\n",
              "    </tr>\n",
              "    <tr>\n",
              "      <th>2</th>\n",
              "      <td>7</td>\n",
              "      <td>L. Suárez</td>\n",
              "      <td>31</td>\n",
              "      <td>south america</td>\n",
              "      <td>2021</td>\n",
              "      <td>ST</td>\n",
              "      <td>right</td>\n",
              "      <td>5.0</td>\n",
              "      <td>91</td>\n",
              "      <td>91</td>\n",
              "      <td>3.0</td>\n",
              "      <td>80000000.0</td>\n",
              "    </tr>\n",
              "  </tbody>\n",
              "</table>\n",
              "</div>"
            ],
            "text/plain": [
              "   id       name  age  ... stat_potential stat_skill_moves        value\n",
              "0   0   L. Messi   31  ...             94              4.0  110500000.0\n",
              "1   3     De Gea   27  ...             93              1.0   72000000.0\n",
              "2   7  L. Suárez   31  ...             91              3.0   80000000.0\n",
              "\n",
              "[3 rows x 12 columns]"
            ]
          },
          "metadata": {
            "tags": []
          },
          "execution_count": 5
        }
      ]
    },
    {
      "cell_type": "code",
      "metadata": {
        "id": "254ZUq0Atxvc",
        "outputId": "3b987eed-136b-4111-b487-46f9d1b66c4f",
        "colab": {
          "base_uri": "https://localhost:8080/",
          "height": 340
        }
      },
      "source": [
        "data.info()"
      ],
      "execution_count": 6,
      "outputs": [
        {
          "output_type": "stream",
          "text": [
            "<class 'pandas.core.frame.DataFrame'>\n",
            "RangeIndex: 8932 entries, 0 to 8931\n",
            "Data columns (total 12 columns):\n",
            " #   Column            Non-Null Count  Dtype  \n",
            "---  ------            --------------  -----  \n",
            " 0   id                8932 non-null   int64  \n",
            " 1   name              8932 non-null   object \n",
            " 2   age               8932 non-null   int64  \n",
            " 3   continent         8932 non-null   object \n",
            " 4   contract_until    8932 non-null   object \n",
            " 5   position          8932 non-null   object \n",
            " 6   prefer_foot       8932 non-null   object \n",
            " 7   reputation        8932 non-null   float64\n",
            " 8   stat_overall      8932 non-null   int64  \n",
            " 9   stat_potential    8932 non-null   int64  \n",
            " 10  stat_skill_moves  8932 non-null   float64\n",
            " 11  value             8932 non-null   float64\n",
            "dtypes: float64(3), int64(4), object(5)\n",
            "memory usage: 837.5+ KB\n"
          ],
          "name": "stdout"
        }
      ]
    },
    {
      "cell_type": "code",
      "metadata": {
        "id": "tVanhaIIuTIs",
        "outputId": "b10e1966-3176-4a71-ce2a-0b166aff8818",
        "colab": {
          "base_uri": "https://localhost:8080/",
          "height": 297
        }
      },
      "source": [
        "data.describe()"
      ],
      "execution_count": 7,
      "outputs": [
        {
          "output_type": "execute_result",
          "data": {
            "text/html": [
              "<div>\n",
              "<style scoped>\n",
              "    .dataframe tbody tr th:only-of-type {\n",
              "        vertical-align: middle;\n",
              "    }\n",
              "\n",
              "    .dataframe tbody tr th {\n",
              "        vertical-align: top;\n",
              "    }\n",
              "\n",
              "    .dataframe thead th {\n",
              "        text-align: right;\n",
              "    }\n",
              "</style>\n",
              "<table border=\"1\" class=\"dataframe\">\n",
              "  <thead>\n",
              "    <tr style=\"text-align: right;\">\n",
              "      <th></th>\n",
              "      <th>id</th>\n",
              "      <th>age</th>\n",
              "      <th>reputation</th>\n",
              "      <th>stat_overall</th>\n",
              "      <th>stat_potential</th>\n",
              "      <th>stat_skill_moves</th>\n",
              "      <th>value</th>\n",
              "    </tr>\n",
              "  </thead>\n",
              "  <tbody>\n",
              "    <tr>\n",
              "      <th>count</th>\n",
              "      <td>8932.000000</td>\n",
              "      <td>8932.000000</td>\n",
              "      <td>8932.000000</td>\n",
              "      <td>8932.000000</td>\n",
              "      <td>8932.000000</td>\n",
              "      <td>8932.000000</td>\n",
              "      <td>8.932000e+03</td>\n",
              "    </tr>\n",
              "    <tr>\n",
              "      <th>mean</th>\n",
              "      <td>7966.775750</td>\n",
              "      <td>25.209136</td>\n",
              "      <td>1.130878</td>\n",
              "      <td>67.091133</td>\n",
              "      <td>71.997201</td>\n",
              "      <td>2.401702</td>\n",
              "      <td>2.778673e+06</td>\n",
              "    </tr>\n",
              "    <tr>\n",
              "      <th>std</th>\n",
              "      <td>4844.428521</td>\n",
              "      <td>4.635515</td>\n",
              "      <td>0.423792</td>\n",
              "      <td>6.854910</td>\n",
              "      <td>5.988147</td>\n",
              "      <td>0.776048</td>\n",
              "      <td>5.840982e+06</td>\n",
              "    </tr>\n",
              "    <tr>\n",
              "      <th>min</th>\n",
              "      <td>0.000000</td>\n",
              "      <td>16.000000</td>\n",
              "      <td>1.000000</td>\n",
              "      <td>47.000000</td>\n",
              "      <td>48.000000</td>\n",
              "      <td>1.000000</td>\n",
              "      <td>1.000000e+04</td>\n",
              "    </tr>\n",
              "    <tr>\n",
              "      <th>25%</th>\n",
              "      <td>3751.750000</td>\n",
              "      <td>21.000000</td>\n",
              "      <td>1.000000</td>\n",
              "      <td>63.000000</td>\n",
              "      <td>68.000000</td>\n",
              "      <td>2.000000</td>\n",
              "      <td>3.750000e+05</td>\n",
              "    </tr>\n",
              "    <tr>\n",
              "      <th>50%</th>\n",
              "      <td>7696.500000</td>\n",
              "      <td>25.000000</td>\n",
              "      <td>1.000000</td>\n",
              "      <td>67.000000</td>\n",
              "      <td>72.000000</td>\n",
              "      <td>2.000000</td>\n",
              "      <td>8.250000e+05</td>\n",
              "    </tr>\n",
              "    <tr>\n",
              "      <th>75%</th>\n",
              "      <td>12082.250000</td>\n",
              "      <td>28.000000</td>\n",
              "      <td>1.000000</td>\n",
              "      <td>72.000000</td>\n",
              "      <td>76.000000</td>\n",
              "      <td>3.000000</td>\n",
              "      <td>2.600000e+06</td>\n",
              "    </tr>\n",
              "    <tr>\n",
              "      <th>max</th>\n",
              "      <td>16948.000000</td>\n",
              "      <td>40.000000</td>\n",
              "      <td>5.000000</td>\n",
              "      <td>94.000000</td>\n",
              "      <td>94.000000</td>\n",
              "      <td>5.000000</td>\n",
              "      <td>1.105000e+08</td>\n",
              "    </tr>\n",
              "  </tbody>\n",
              "</table>\n",
              "</div>"
            ],
            "text/plain": [
              "                 id          age  ...  stat_skill_moves         value\n",
              "count   8932.000000  8932.000000  ...       8932.000000  8.932000e+03\n",
              "mean    7966.775750    25.209136  ...          2.401702  2.778673e+06\n",
              "std     4844.428521     4.635515  ...          0.776048  5.840982e+06\n",
              "min        0.000000    16.000000  ...          1.000000  1.000000e+04\n",
              "25%     3751.750000    21.000000  ...          2.000000  3.750000e+05\n",
              "50%     7696.500000    25.000000  ...          2.000000  8.250000e+05\n",
              "75%    12082.250000    28.000000  ...          3.000000  2.600000e+06\n",
              "max    16948.000000    40.000000  ...          5.000000  1.105000e+08\n",
              "\n",
              "[8 rows x 7 columns]"
            ]
          },
          "metadata": {
            "tags": []
          },
          "execution_count": 7
        }
      ]
    },
    {
      "cell_type": "code",
      "metadata": {
        "id": "KJDtfpRMuZQA",
        "outputId": "7c16b989-1a1d-4c83-bbdf-325502efc0a9",
        "colab": {
          "base_uri": "https://localhost:8080/",
          "height": 213
        }
      },
      "source": [
        "x_test.head(3)"
      ],
      "execution_count": 8,
      "outputs": [
        {
          "output_type": "execute_result",
          "data": {
            "text/html": [
              "<div>\n",
              "<style scoped>\n",
              "    .dataframe tbody tr th:only-of-type {\n",
              "        vertical-align: middle;\n",
              "    }\n",
              "\n",
              "    .dataframe tbody tr th {\n",
              "        vertical-align: top;\n",
              "    }\n",
              "\n",
              "    .dataframe thead th {\n",
              "        text-align: right;\n",
              "    }\n",
              "</style>\n",
              "<table border=\"1\" class=\"dataframe\">\n",
              "  <thead>\n",
              "    <tr style=\"text-align: right;\">\n",
              "      <th></th>\n",
              "      <th>id</th>\n",
              "      <th>name</th>\n",
              "      <th>age</th>\n",
              "      <th>continent</th>\n",
              "      <th>contract_until</th>\n",
              "      <th>position</th>\n",
              "      <th>prefer_foot</th>\n",
              "      <th>reputation</th>\n",
              "      <th>stat_overall</th>\n",
              "      <th>stat_potential</th>\n",
              "      <th>stat_skill_moves</th>\n",
              "    </tr>\n",
              "  </thead>\n",
              "  <tbody>\n",
              "    <tr>\n",
              "      <th>0</th>\n",
              "      <td>1</td>\n",
              "      <td>Cristiano Ronaldo</td>\n",
              "      <td>33</td>\n",
              "      <td>europe</td>\n",
              "      <td>2022</td>\n",
              "      <td>ST</td>\n",
              "      <td>right</td>\n",
              "      <td>5.0</td>\n",
              "      <td>94</td>\n",
              "      <td>94</td>\n",
              "      <td>5.0</td>\n",
              "    </tr>\n",
              "    <tr>\n",
              "      <th>1</th>\n",
              "      <td>2</td>\n",
              "      <td>Neymar Jr</td>\n",
              "      <td>26</td>\n",
              "      <td>south america</td>\n",
              "      <td>2022</td>\n",
              "      <td>ST</td>\n",
              "      <td>right</td>\n",
              "      <td>5.0</td>\n",
              "      <td>92</td>\n",
              "      <td>93</td>\n",
              "      <td>5.0</td>\n",
              "    </tr>\n",
              "    <tr>\n",
              "      <th>2</th>\n",
              "      <td>4</td>\n",
              "      <td>K. De Bruyne</td>\n",
              "      <td>27</td>\n",
              "      <td>europe</td>\n",
              "      <td>2023</td>\n",
              "      <td>MF</td>\n",
              "      <td>right</td>\n",
              "      <td>4.0</td>\n",
              "      <td>91</td>\n",
              "      <td>92</td>\n",
              "      <td>4.0</td>\n",
              "    </tr>\n",
              "  </tbody>\n",
              "</table>\n",
              "</div>"
            ],
            "text/plain": [
              "   id               name  age  ... stat_overall stat_potential stat_skill_moves\n",
              "0   1  Cristiano Ronaldo   33  ...           94             94              5.0\n",
              "1   2          Neymar Jr   26  ...           92             93              5.0\n",
              "2   4       K. De Bruyne   27  ...           91             92              4.0\n",
              "\n",
              "[3 rows x 11 columns]"
            ]
          },
          "metadata": {
            "tags": []
          },
          "execution_count": 8
        }
      ]
    },
    {
      "cell_type": "code",
      "metadata": {
        "id": "cv1k3ydDubB3",
        "outputId": "975fad96-652e-4d2c-e269-117f5c052aaf",
        "colab": {
          "base_uri": "https://localhost:8080/",
          "height": 323
        }
      },
      "source": [
        "x_test.info()"
      ],
      "execution_count": 9,
      "outputs": [
        {
          "output_type": "stream",
          "text": [
            "<class 'pandas.core.frame.DataFrame'>\n",
            "RangeIndex: 3828 entries, 0 to 3827\n",
            "Data columns (total 11 columns):\n",
            " #   Column            Non-Null Count  Dtype  \n",
            "---  ------            --------------  -----  \n",
            " 0   id                3828 non-null   int64  \n",
            " 1   name              3828 non-null   object \n",
            " 2   age               3828 non-null   int64  \n",
            " 3   continent         3828 non-null   object \n",
            " 4   contract_until    3828 non-null   object \n",
            " 5   position          3828 non-null   object \n",
            " 6   prefer_foot       3828 non-null   object \n",
            " 7   reputation        3828 non-null   float64\n",
            " 8   stat_overall      3828 non-null   int64  \n",
            " 9   stat_potential    3828 non-null   int64  \n",
            " 10  stat_skill_moves  3828 non-null   float64\n",
            "dtypes: float64(2), int64(4), object(5)\n",
            "memory usage: 329.1+ KB\n"
          ],
          "name": "stdout"
        }
      ]
    },
    {
      "cell_type": "code",
      "metadata": {
        "id": "ft4_U1KGub-Z",
        "outputId": "b487a1ff-0d61-4ba3-c1e6-c03636066267",
        "colab": {
          "base_uri": "https://localhost:8080/",
          "height": 297
        }
      },
      "source": [
        "x_test.describe()"
      ],
      "execution_count": 10,
      "outputs": [
        {
          "output_type": "execute_result",
          "data": {
            "text/html": [
              "<div>\n",
              "<style scoped>\n",
              "    .dataframe tbody tr th:only-of-type {\n",
              "        vertical-align: middle;\n",
              "    }\n",
              "\n",
              "    .dataframe tbody tr th {\n",
              "        vertical-align: top;\n",
              "    }\n",
              "\n",
              "    .dataframe thead th {\n",
              "        text-align: right;\n",
              "    }\n",
              "</style>\n",
              "<table border=\"1\" class=\"dataframe\">\n",
              "  <thead>\n",
              "    <tr style=\"text-align: right;\">\n",
              "      <th></th>\n",
              "      <th>id</th>\n",
              "      <th>age</th>\n",
              "      <th>reputation</th>\n",
              "      <th>stat_overall</th>\n",
              "      <th>stat_potential</th>\n",
              "      <th>stat_skill_moves</th>\n",
              "    </tr>\n",
              "  </thead>\n",
              "  <tbody>\n",
              "    <tr>\n",
              "      <th>count</th>\n",
              "      <td>3828.000000</td>\n",
              "      <td>3828.000000</td>\n",
              "      <td>3828.000000</td>\n",
              "      <td>3828.000000</td>\n",
              "      <td>3828.000000</td>\n",
              "      <td>3828.000000</td>\n",
              "    </tr>\n",
              "    <tr>\n",
              "      <th>mean</th>\n",
              "      <td>7846.258098</td>\n",
              "      <td>25.297806</td>\n",
              "      <td>1.143939</td>\n",
              "      <td>67.336991</td>\n",
              "      <td>72.107628</td>\n",
              "      <td>2.414838</td>\n",
              "    </tr>\n",
              "    <tr>\n",
              "      <th>std</th>\n",
              "      <td>4870.339361</td>\n",
              "      <td>4.628236</td>\n",
              "      <td>0.448465</td>\n",
              "      <td>6.908814</td>\n",
              "      <td>6.133428</td>\n",
              "      <td>0.781153</td>\n",
              "    </tr>\n",
              "    <tr>\n",
              "      <th>min</th>\n",
              "      <td>1.000000</td>\n",
              "      <td>16.000000</td>\n",
              "      <td>1.000000</td>\n",
              "      <td>47.000000</td>\n",
              "      <td>52.000000</td>\n",
              "      <td>1.000000</td>\n",
              "    </tr>\n",
              "    <tr>\n",
              "      <th>25%</th>\n",
              "      <td>3466.250000</td>\n",
              "      <td>22.000000</td>\n",
              "      <td>1.000000</td>\n",
              "      <td>63.000000</td>\n",
              "      <td>68.000000</td>\n",
              "      <td>2.000000</td>\n",
              "    </tr>\n",
              "    <tr>\n",
              "      <th>50%</th>\n",
              "      <td>7643.500000</td>\n",
              "      <td>25.000000</td>\n",
              "      <td>1.000000</td>\n",
              "      <td>67.000000</td>\n",
              "      <td>72.000000</td>\n",
              "      <td>2.000000</td>\n",
              "    </tr>\n",
              "    <tr>\n",
              "      <th>75%</th>\n",
              "      <td>11967.000000</td>\n",
              "      <td>29.000000</td>\n",
              "      <td>1.000000</td>\n",
              "      <td>72.000000</td>\n",
              "      <td>76.000000</td>\n",
              "      <td>3.000000</td>\n",
              "    </tr>\n",
              "    <tr>\n",
              "      <th>max</th>\n",
              "      <td>16943.000000</td>\n",
              "      <td>42.000000</td>\n",
              "      <td>5.000000</td>\n",
              "      <td>94.000000</td>\n",
              "      <td>95.000000</td>\n",
              "      <td>5.000000</td>\n",
              "    </tr>\n",
              "  </tbody>\n",
              "</table>\n",
              "</div>"
            ],
            "text/plain": [
              "                 id          age  ...  stat_potential  stat_skill_moves\n",
              "count   3828.000000  3828.000000  ...     3828.000000       3828.000000\n",
              "mean    7846.258098    25.297806  ...       72.107628          2.414838\n",
              "std     4870.339361     4.628236  ...        6.133428          0.781153\n",
              "min        1.000000    16.000000  ...       52.000000          1.000000\n",
              "25%     3466.250000    22.000000  ...       68.000000          2.000000\n",
              "50%     7643.500000    25.000000  ...       72.000000          2.000000\n",
              "75%    11967.000000    29.000000  ...       76.000000          3.000000\n",
              "max    16943.000000    42.000000  ...       95.000000          5.000000\n",
              "\n",
              "[8 rows x 6 columns]"
            ]
          },
          "metadata": {
            "tags": []
          },
          "execution_count": 10
        }
      ]
    },
    {
      "cell_type": "code",
      "metadata": {
        "id": "XoIqZW3JueKr",
        "outputId": "201cb163-7323-4915-dcf5-9f543f9648db",
        "colab": {
          "base_uri": "https://localhost:8080/",
          "height": 34
        }
      },
      "source": [
        "data.shape, x_test.shape"
      ],
      "execution_count": 11,
      "outputs": [
        {
          "output_type": "execute_result",
          "data": {
            "text/plain": [
              "((8932, 12), (3828, 11))"
            ]
          },
          "metadata": {
            "tags": []
          },
          "execution_count": 11
        }
      ]
    },
    {
      "cell_type": "markdown",
      "metadata": {
        "id": "hkDpDpzaukop"
      },
      "source": [
        "#### 불필요한 칼럼 삭제"
      ]
    },
    {
      "cell_type": "code",
      "metadata": {
        "id": "MOcztviBugx_"
      },
      "source": [
        "data.drop(columns = ['id', 'value', 'name'], inplace=True)\n",
        "x_test.drop(columns = ['id', 'name'], inplace=True)"
      ],
      "execution_count": 12,
      "outputs": []
    },
    {
      "cell_type": "markdown",
      "metadata": {
        "id": "qWYjwpBTuxIS"
      },
      "source": [
        "#### 수치/범주형 변수 분류"
      ]
    },
    {
      "cell_type": "code",
      "metadata": {
        "id": "xM_X4RZ8uwZ3",
        "outputId": "cd303b2e-72d2-4c9c-da6c-be77fe23f330",
        "colab": {
          "base_uri": "https://localhost:8080/",
          "height": 187
        }
      },
      "source": [
        "data.dtypes == 'O' # 범주형 변수이면 true"
      ],
      "execution_count": 13,
      "outputs": [
        {
          "output_type": "execute_result",
          "data": {
            "text/plain": [
              "age                 False\n",
              "continent            True\n",
              "contract_until       True\n",
              "position             True\n",
              "prefer_foot          True\n",
              "reputation          False\n",
              "stat_overall        False\n",
              "stat_potential      False\n",
              "stat_skill_moves    False\n",
              "dtype: bool"
            ]
          },
          "metadata": {
            "tags": []
          },
          "execution_count": 13
        }
      ]
    },
    {
      "cell_type": "code",
      "metadata": {
        "id": "XtCN3sUru02p",
        "outputId": "02203972-bf93-4a8b-8e2c-ba33039da31d",
        "colab": {
          "base_uri": "https://localhost:8080/",
          "height": 102
        }
      },
      "source": [
        "cat_columns = [c for (c, t) in zip(data.dtypes.index, data.dtypes) if t == 'O']\n",
        "num_columns = [c for c in data.columns if c not in cat_columns]\n",
        "\n",
        "print('Categorical Columns: \\n{}\\n Numeric Columns: \\n{}\\n'.format(cat_columns, num_columns))"
      ],
      "execution_count": 14,
      "outputs": [
        {
          "output_type": "stream",
          "text": [
            "Categorical Columns: \n",
            "['continent', 'contract_until', 'position', 'prefer_foot']\n",
            " Numeric Columns: \n",
            "['age', 'reputation', 'stat_overall', 'stat_potential', 'stat_skill_moves']\n",
            "\n"
          ],
          "name": "stdout"
        }
      ]
    },
    {
      "cell_type": "markdown",
      "metadata": {
        "id": "kN0YRhCEvedh"
      },
      "source": [
        "#### missing values"
      ]
    },
    {
      "cell_type": "code",
      "metadata": {
        "id": "grtjqLVsvaQk",
        "outputId": "11a10e1a-aa7b-460c-ef0c-016b5aecd640",
        "colab": {
          "base_uri": "https://localhost:8080/",
          "height": 502
        }
      },
      "source": [
        "import missingno as msno\n",
        "msno.matrix(data)"
      ],
      "execution_count": 15,
      "outputs": [
        {
          "output_type": "execute_result",
          "data": {
            "text/plain": [
              "<matplotlib.axes._subplots.AxesSubplot at 0x7f8b54f28438>"
            ]
          },
          "metadata": {
            "tags": []
          },
          "execution_count": 15
        },
        {
          "output_type": "display_data",
          "data": {
            "image/png": "[encoded data removed]",
            "text/plain": [
              "<Figure size 1800x720 with 2 Axes>"
            ]
          },
          "metadata": {
            "tags": [],
            "needs_background": "light"
          }
        }
      ]
    },
    {
      "cell_type": "code",
      "metadata": {
        "id": "rJaEMBEGvjU-",
        "outputId": "b1e702d9-a5ab-49c6-8e83-95cbd7a1bc17",
        "colab": {
          "base_uri": "https://localhost:8080/",
          "height": 502
        }
      },
      "source": [
        "msno.matrix(x_test)"
      ],
      "execution_count": 16,
      "outputs": [
        {
          "output_type": "execute_result",
          "data": {
            "text/plain": [
              "<matplotlib.axes._subplots.AxesSubplot at 0x7f8b52660d30>"
            ]
          },
          "metadata": {
            "tags": []
          },
          "execution_count": 16
        },
        {
          "output_type": "display_data",
          "data": {
            "image/png": "[encoded data removed]",
            "text/plain": [
              "<Figure size 1800x720 with 2 Axes>"
            ]
          },
          "metadata": {
            "tags": [],
            "needs_background": "light"
          }
        }
      ]
    },
    {
      "cell_type": "code",
      "metadata": {
        "id": "HiE87LJmvk_h",
        "outputId": "26703e6c-62f5-42fd-ecd0-c17c8df2a38f",
        "colab": {
          "base_uri": "https://localhost:8080/",
          "height": 187
        }
      },
      "source": [
        "data.isna().sum()"
      ],
      "execution_count": 17,
      "outputs": [
        {
          "output_type": "execute_result",
          "data": {
            "text/plain": [
              "age                 0\n",
              "continent           0\n",
              "contract_until      0\n",
              "position            0\n",
              "prefer_foot         0\n",
              "reputation          0\n",
              "stat_overall        0\n",
              "stat_potential      0\n",
              "stat_skill_moves    0\n",
              "dtype: int64"
            ]
          },
          "metadata": {
            "tags": []
          },
          "execution_count": 17
        }
      ]
    },
    {
      "cell_type": "code",
      "metadata": {
        "id": "C17fNKdwvon6",
        "outputId": "244d4583-6ab4-4624-c202-21f13c776417",
        "colab": {
          "base_uri": "https://localhost:8080/",
          "height": 187
        }
      },
      "source": [
        "x_test.isna().sum()"
      ],
      "execution_count": 18,
      "outputs": [
        {
          "output_type": "execute_result",
          "data": {
            "text/plain": [
              "age                 0\n",
              "continent           0\n",
              "contract_until      0\n",
              "position            0\n",
              "prefer_foot         0\n",
              "reputation          0\n",
              "stat_overall        0\n",
              "stat_potential      0\n",
              "stat_skill_moves    0\n",
              "dtype: int64"
            ]
          },
          "metadata": {
            "tags": []
          },
          "execution_count": 18
        }
      ]
    },
    {
      "cell_type": "markdown",
      "metadata": {
        "id": "1dcOdtDivrBG"
      },
      "source": [
        "* 결측치 없음"
      ]
    },
    {
      "cell_type": "markdown",
      "metadata": {
        "id": "WcKP9ifvwBRl"
      },
      "source": [
        "#### Scaling"
      ]
    },
    {
      "cell_type": "code",
      "metadata": {
        "id": "K-DQSepewDEf",
        "outputId": "3e690716-0ff8-4608-dac1-6e1ed781fca2",
        "colab": {
          "base_uri": "https://localhost:8080/",
          "height": 34
        }
      },
      "source": [
        "from sklearn.preprocessing import StandardScaler\n",
        "scaler = StandardScaler()\n",
        "scaler.fit(data[num_columns])"
      ],
      "execution_count": 19,
      "outputs": [
        {
          "output_type": "execute_result",
          "data": {
            "text/plain": [
              "StandardScaler(copy=True, with_mean=True, with_std=True)"
            ]
          },
          "metadata": {
            "tags": []
          },
          "execution_count": 19
        }
      ]
    },
    {
      "cell_type": "code",
      "metadata": {
        "id": "rxxGJa7PwNfx"
      },
      "source": [
        "data[num_columns] = scaler.transform(data[num_columns])\n",
        "x_test[num_columns] = scaler.transform(x_test[num_columns])"
      ],
      "execution_count": 20,
      "outputs": []
    },
    {
      "cell_type": "code",
      "metadata": {
        "id": "ujMDkWAZwYZn",
        "outputId": "37da218a-d800-4891-8dee-ed1a6da4e0d3",
        "colab": {
          "base_uri": "https://localhost:8080/",
          "height": 297
        }
      },
      "source": [
        "data.describe()"
      ],
      "execution_count": 21,
      "outputs": [
        {
          "output_type": "execute_result",
          "data": {
            "text/html": [
              "<div>\n",
              "<style scoped>\n",
              "    .dataframe tbody tr th:only-of-type {\n",
              "        vertical-align: middle;\n",
              "    }\n",
              "\n",
              "    .dataframe tbody tr th {\n",
              "        vertical-align: top;\n",
              "    }\n",
              "\n",
              "    .dataframe thead th {\n",
              "        text-align: right;\n",
              "    }\n",
              "</style>\n",
              "<table border=\"1\" class=\"dataframe\">\n",
              "  <thead>\n",
              "    <tr style=\"text-align: right;\">\n",
              "      <th></th>\n",
              "      <th>age</th>\n",
              "      <th>reputation</th>\n",
              "      <th>stat_overall</th>\n",
              "      <th>stat_potential</th>\n",
              "      <th>stat_skill_moves</th>\n",
              "    </tr>\n",
              "  </thead>\n",
              "  <tbody>\n",
              "    <tr>\n",
              "      <th>count</th>\n",
              "      <td>8.932000e+03</td>\n",
              "      <td>8.932000e+03</td>\n",
              "      <td>8.932000e+03</td>\n",
              "      <td>8.932000e+03</td>\n",
              "      <td>8.932000e+03</td>\n",
              "    </tr>\n",
              "    <tr>\n",
              "      <th>mean</th>\n",
              "      <td>-7.886611e-15</td>\n",
              "      <td>4.642888e-14</td>\n",
              "      <td>3.397292e-15</td>\n",
              "      <td>-1.529353e-16</td>\n",
              "      <td>-1.110065e-14</td>\n",
              "    </tr>\n",
              "    <tr>\n",
              "      <th>std</th>\n",
              "      <td>1.000056e+00</td>\n",
              "      <td>1.000056e+00</td>\n",
              "      <td>1.000056e+00</td>\n",
              "      <td>1.000056e+00</td>\n",
              "      <td>1.000056e+00</td>\n",
              "    </tr>\n",
              "    <tr>\n",
              "      <th>min</th>\n",
              "      <td>-1.986759e+00</td>\n",
              "      <td>-3.088428e-01</td>\n",
              "      <td>-2.931075e+00</td>\n",
              "      <td>-4.007675e+00</td>\n",
              "      <td>-1.806307e+00</td>\n",
              "    </tr>\n",
              "    <tr>\n",
              "      <th>25%</th>\n",
              "      <td>-9.080698e-01</td>\n",
              "      <td>-3.088428e-01</td>\n",
              "      <td>-5.968513e-01</td>\n",
              "      <td>-6.675562e-01</td>\n",
              "      <td>-5.176541e-01</td>\n",
              "    </tr>\n",
              "    <tr>\n",
              "      <th>50%</th>\n",
              "      <td>-4.511848e-02</td>\n",
              "      <td>-3.088428e-01</td>\n",
              "      <td>-1.329530e-02</td>\n",
              "      <td>4.674371e-04</td>\n",
              "      <td>-5.176541e-01</td>\n",
              "    </tr>\n",
              "    <tr>\n",
              "      <th>75%</th>\n",
              "      <td>6.020950e-01</td>\n",
              "      <td>-3.088428e-01</td>\n",
              "      <td>7.161497e-01</td>\n",
              "      <td>6.684911e-01</td>\n",
              "      <td>7.709987e-01</td>\n",
              "    </tr>\n",
              "    <tr>\n",
              "      <th>max</th>\n",
              "      <td>3.190949e+00</td>\n",
              "      <td>9.130280e+00</td>\n",
              "      <td>3.925708e+00</td>\n",
              "      <td>3.674598e+00</td>\n",
              "      <td>3.348304e+00</td>\n",
              "    </tr>\n",
              "  </tbody>\n",
              "</table>\n",
              "</div>"
            ],
            "text/plain": [
              "                age    reputation  ...  stat_potential  stat_skill_moves\n",
              "count  8.932000e+03  8.932000e+03  ...    8.932000e+03      8.932000e+03\n",
              "mean  -7.886611e-15  4.642888e-14  ...   -1.529353e-16     -1.110065e-14\n",
              "std    1.000056e+00  1.000056e+00  ...    1.000056e+00      1.000056e+00\n",
              "min   -1.986759e+00 -3.088428e-01  ...   -4.007675e+00     -1.806307e+00\n",
              "25%   -9.080698e-01 -3.088428e-01  ...   -6.675562e-01     -5.176541e-01\n",
              "50%   -4.511848e-02 -3.088428e-01  ...    4.674371e-04     -5.176541e-01\n",
              "75%    6.020950e-01 -3.088428e-01  ...    6.684911e-01      7.709987e-01\n",
              "max    3.190949e+00  9.130280e+00  ...    3.674598e+00      3.348304e+00\n",
              "\n",
              "[8 rows x 5 columns]"
            ]
          },
          "metadata": {
            "tags": []
          },
          "execution_count": 21
        }
      ]
    },
    {
      "cell_type": "code",
      "metadata": {
        "id": "xOW8cf85wbPi",
        "outputId": "bee98a72-3cd3-45ed-8d49-1500a937187a",
        "colab": {
          "base_uri": "https://localhost:8080/",
          "height": 297
        }
      },
      "source": [
        "x_test.describe()"
      ],
      "execution_count": 22,
      "outputs": [
        {
          "output_type": "execute_result",
          "data": {
            "text/html": [
              "<div>\n",
              "<style scoped>\n",
              "    .dataframe tbody tr th:only-of-type {\n",
              "        vertical-align: middle;\n",
              "    }\n",
              "\n",
              "    .dataframe tbody tr th {\n",
              "        vertical-align: top;\n",
              "    }\n",
              "\n",
              "    .dataframe thead th {\n",
              "        text-align: right;\n",
              "    }\n",
              "</style>\n",
              "<table border=\"1\" class=\"dataframe\">\n",
              "  <thead>\n",
              "    <tr style=\"text-align: right;\">\n",
              "      <th></th>\n",
              "      <th>age</th>\n",
              "      <th>reputation</th>\n",
              "      <th>stat_overall</th>\n",
              "      <th>stat_potential</th>\n",
              "      <th>stat_skill_moves</th>\n",
              "    </tr>\n",
              "  </thead>\n",
              "  <tbody>\n",
              "    <tr>\n",
              "      <th>count</th>\n",
              "      <td>3828.000000</td>\n",
              "      <td>3828.000000</td>\n",
              "      <td>3828.000000</td>\n",
              "      <td>3828.000000</td>\n",
              "      <td>3828.000000</td>\n",
              "    </tr>\n",
              "    <tr>\n",
              "      <th>mean</th>\n",
              "      <td>0.019129</td>\n",
              "      <td>0.030823</td>\n",
              "      <td>0.035868</td>\n",
              "      <td>0.018442</td>\n",
              "      <td>0.016928</td>\n",
              "    </tr>\n",
              "    <tr>\n",
              "      <th>std</th>\n",
              "      <td>0.998486</td>\n",
              "      <td>1.058279</td>\n",
              "      <td>1.007920</td>\n",
              "      <td>1.024319</td>\n",
              "      <td>1.006635</td>\n",
              "    </tr>\n",
              "    <tr>\n",
              "      <th>min</th>\n",
              "      <td>-1.986759</td>\n",
              "      <td>-0.308843</td>\n",
              "      <td>-2.931075</td>\n",
              "      <td>-3.339651</td>\n",
              "      <td>-1.806307</td>\n",
              "    </tr>\n",
              "    <tr>\n",
              "      <th>25%</th>\n",
              "      <td>-0.692332</td>\n",
              "      <td>-0.308843</td>\n",
              "      <td>-0.596851</td>\n",
              "      <td>-0.667556</td>\n",
              "      <td>-0.517654</td>\n",
              "    </tr>\n",
              "    <tr>\n",
              "      <th>50%</th>\n",
              "      <td>-0.045118</td>\n",
              "      <td>-0.308843</td>\n",
              "      <td>-0.013295</td>\n",
              "      <td>0.000467</td>\n",
              "      <td>-0.517654</td>\n",
              "    </tr>\n",
              "    <tr>\n",
              "      <th>75%</th>\n",
              "      <td>0.817833</td>\n",
              "      <td>-0.308843</td>\n",
              "      <td>0.716150</td>\n",
              "      <td>0.668491</td>\n",
              "      <td>0.770999</td>\n",
              "    </tr>\n",
              "    <tr>\n",
              "      <th>max</th>\n",
              "      <td>3.622425</td>\n",
              "      <td>9.130280</td>\n",
              "      <td>3.925708</td>\n",
              "      <td>3.841604</td>\n",
              "      <td>3.348304</td>\n",
              "    </tr>\n",
              "  </tbody>\n",
              "</table>\n",
              "</div>"
            ],
            "text/plain": [
              "               age   reputation  stat_overall  stat_potential  stat_skill_moves\n",
              "count  3828.000000  3828.000000   3828.000000     3828.000000       3828.000000\n",
              "mean      0.019129     0.030823      0.035868        0.018442          0.016928\n",
              "std       0.998486     1.058279      1.007920        1.024319          1.006635\n",
              "min      -1.986759    -0.308843     -2.931075       -3.339651         -1.806307\n",
              "25%      -0.692332    -0.308843     -0.596851       -0.667556         -0.517654\n",
              "50%      -0.045118    -0.308843     -0.013295        0.000467         -0.517654\n",
              "75%       0.817833    -0.308843      0.716150        0.668491          0.770999\n",
              "max       3.622425     9.130280      3.925708        3.841604          3.348304"
            ]
          },
          "metadata": {
            "tags": []
          },
          "execution_count": 22
        }
      ]
    },
    {
      "cell_type": "markdown",
      "metadata": {
        "id": "S-UiS1JkvtYh"
      },
      "source": [
        "#### train/valid set"
      ]
    },
    {
      "cell_type": "code",
      "metadata": {
        "id": "KXGFO9vJvqSx"
      },
      "source": [
        "from sklearn.model_selection import train_test_split\n",
        "x_train, x_valid, y_train, y_valid = train_test_split(data, label,\n",
        "                                                     test_size=.3,\n",
        "                                                     random_state=1995,\n",
        "                                                     shuffle=True)"
      ],
      "execution_count": 23,
      "outputs": []
    },
    {
      "cell_type": "code",
      "metadata": {
        "id": "wT4fDL30v8q2"
      },
      "source": [
        "x_train.reset_index(drop=True, inplace=True)\n",
        "x_valid.reset_index(drop=True, inplace=True)"
      ],
      "execution_count": 24,
      "outputs": []
    },
    {
      "cell_type": "markdown",
      "metadata": {
        "id": "e5H3QLNswnxI"
      },
      "source": [
        "#### Encoding"
      ]
    },
    {
      "cell_type": "code",
      "metadata": {
        "id": "5hxmlikEwkys"
      },
      "source": [
        "from sklearn.preprocessing import OneHotEncoder"
      ],
      "execution_count": 25,
      "outputs": []
    },
    {
      "cell_type": "code",
      "metadata": {
        "id": "SVYzf0EEy4pY",
        "outputId": "12aa2263-d794-40d0-e5e4-cb1f62f3725c",
        "colab": {
          "base_uri": "https://localhost:8080/",
          "height": 323
        }
      },
      "source": [
        "# ValueError: Found unknown categories ['Dec 31, 2019', 'Jun 1, 2019'] in column 1 during transform <- 에러 발생\n",
        "# contract_until 컬럼의 범주 데이터 전처리\n",
        "data['contract_until'].value_counts()"
      ],
      "execution_count": 26,
      "outputs": [
        {
          "output_type": "execute_result",
          "data": {
            "text/plain": [
              "2019            2366\n",
              "2021            2308\n",
              "2020            2041\n",
              "2022             761\n",
              "2023             506\n",
              "Jun 30, 2019     501\n",
              "2018             327\n",
              "Dec 31, 2018      64\n",
              "May 31, 2019      19\n",
              "2024              12\n",
              "Jan 31, 2019      10\n",
              "Jun 30, 2020       9\n",
              "2025               3\n",
              "Jan 1, 2019        2\n",
              "May 31, 2020       1\n",
              "2026               1\n",
              "Jan 12, 2019       1\n",
              "Name: contract_until, dtype: int64"
            ]
          },
          "metadata": {
            "tags": []
          },
          "execution_count": 26
        }
      ]
    },
    {
      "cell_type": "code",
      "metadata": {
        "id": "mMK9ryp0zJBd"
      },
      "source": [
        "# 뒤에서 4글자까지 연도만 필요함, 전처리 진행\n",
        "x_all = pd.concat([x_train[cat_columns],\n",
        "                   x_valid[cat_columns],\n",
        "                   x_test[cat_columns]], axis=0)\n",
        "\n",
        "x_all['contract_until'] = x_all['contract_until'].map(lambda x: x[-4:])"
      ],
      "execution_count": 27,
      "outputs": []
    },
    {
      "cell_type": "code",
      "metadata": {
        "id": "JzMRrMG6zkUC",
        "outputId": "29918ca8-b7ee-4358-d668-1d16d8bf674e",
        "colab": {
          "base_uri": "https://localhost:8080/",
          "height": 357
        }
      },
      "source": [
        "ohe = OneHotEncoder(sparse=False)\n",
        "new_x_all = ohe.fit_transform(x_all)\n",
        "\n",
        "ohe_columns = ohe.categories_[0].tolist()\n",
        "for idx in range(len(ohe.categories_) -1):\n",
        "  ohe_columns += ohe.categories_[idx+1].tolist()\n",
        "ohe_columns"
      ],
      "execution_count": 28,
      "outputs": [
        {
          "output_type": "execute_result",
          "data": {
            "text/plain": [
              "['africa',\n",
              " 'asia',\n",
              " 'europe',\n",
              " 'oceania',\n",
              " 'south america',\n",
              " '2018',\n",
              " '2019',\n",
              " '2020',\n",
              " '2021',\n",
              " '2022',\n",
              " '2023',\n",
              " '2024',\n",
              " '2025',\n",
              " '2026',\n",
              " 'DF',\n",
              " 'GK',\n",
              " 'MF',\n",
              " 'ST',\n",
              " 'left',\n",
              " 'right']"
            ]
          },
          "metadata": {
            "tags": []
          },
          "execution_count": 28
        }
      ]
    },
    {
      "cell_type": "code",
      "metadata": {
        "id": "_BngOyXEz-Ph",
        "outputId": "78a24182-f23b-404e-bb6e-089c70ebd606",
        "colab": {
          "base_uri": "https://localhost:8080/",
          "height": 34
        }
      },
      "source": [
        "new_x_all.shape, x_all.shape"
      ],
      "execution_count": 29,
      "outputs": [
        {
          "output_type": "execute_result",
          "data": {
            "text/plain": [
              "((12760, 20), (12760, 4))"
            ]
          },
          "metadata": {
            "tags": []
          },
          "execution_count": 29
        }
      ]
    },
    {
      "cell_type": "code",
      "metadata": {
        "id": "bhtLIkI90LOR",
        "outputId": "ce76c1d9-80d0-4a32-9e19-8e7ab13f7779",
        "colab": {
          "base_uri": "https://localhost:8080/",
          "height": 221
        }
      },
      "source": [
        "new_x_all = pd.DataFrame(new_x_all, columns=ohe_columns)\n",
        "new_x_all.head()"
      ],
      "execution_count": 30,
      "outputs": [
        {
          "output_type": "execute_result",
          "data": {
            "text/html": [
              "<div>\n",
              "<style scoped>\n",
              "    .dataframe tbody tr th:only-of-type {\n",
              "        vertical-align: middle;\n",
              "    }\n",
              "\n",
              "    .dataframe tbody tr th {\n",
              "        vertical-align: top;\n",
              "    }\n",
              "\n",
              "    .dataframe thead th {\n",
              "        text-align: right;\n",
              "    }\n",
              "</style>\n",
              "<table border=\"1\" class=\"dataframe\">\n",
              "  <thead>\n",
              "    <tr style=\"text-align: right;\">\n",
              "      <th></th>\n",
              "      <th>africa</th>\n",
              "      <th>asia</th>\n",
              "      <th>europe</th>\n",
              "      <th>oceania</th>\n",
              "      <th>south america</th>\n",
              "      <th>2018</th>\n",
              "      <th>2019</th>\n",
              "      <th>2020</th>\n",
              "      <th>2021</th>\n",
              "      <th>2022</th>\n",
              "      <th>2023</th>\n",
              "      <th>2024</th>\n",
              "      <th>2025</th>\n",
              "      <th>2026</th>\n",
              "      <th>DF</th>\n",
              "      <th>GK</th>\n",
              "      <th>MF</th>\n",
              "      <th>ST</th>\n",
              "      <th>left</th>\n",
              "      <th>right</th>\n",
              "    </tr>\n",
              "  </thead>\n",
              "  <tbody>\n",
              "    <tr>\n",
              "      <th>0</th>\n",
              "      <td>1.0</td>\n",
              "      <td>0.0</td>\n",
              "      <td>0.0</td>\n",
              "      <td>0.0</td>\n",
              "      <td>0.0</td>\n",
              "      <td>0.0</td>\n",
              "      <td>1.0</td>\n",
              "      <td>0.0</td>\n",
              "      <td>0.0</td>\n",
              "      <td>0.0</td>\n",
              "      <td>0.0</td>\n",
              "      <td>0.0</td>\n",
              "      <td>0.0</td>\n",
              "      <td>0.0</td>\n",
              "      <td>1.0</td>\n",
              "      <td>0.0</td>\n",
              "      <td>0.0</td>\n",
              "      <td>0.0</td>\n",
              "      <td>0.0</td>\n",
              "      <td>1.0</td>\n",
              "    </tr>\n",
              "    <tr>\n",
              "      <th>1</th>\n",
              "      <td>0.0</td>\n",
              "      <td>0.0</td>\n",
              "      <td>1.0</td>\n",
              "      <td>0.0</td>\n",
              "      <td>0.0</td>\n",
              "      <td>0.0</td>\n",
              "      <td>1.0</td>\n",
              "      <td>0.0</td>\n",
              "      <td>0.0</td>\n",
              "      <td>0.0</td>\n",
              "      <td>0.0</td>\n",
              "      <td>0.0</td>\n",
              "      <td>0.0</td>\n",
              "      <td>0.0</td>\n",
              "      <td>0.0</td>\n",
              "      <td>0.0</td>\n",
              "      <td>1.0</td>\n",
              "      <td>0.0</td>\n",
              "      <td>0.0</td>\n",
              "      <td>1.0</td>\n",
              "    </tr>\n",
              "    <tr>\n",
              "      <th>2</th>\n",
              "      <td>0.0</td>\n",
              "      <td>1.0</td>\n",
              "      <td>0.0</td>\n",
              "      <td>0.0</td>\n",
              "      <td>0.0</td>\n",
              "      <td>0.0</td>\n",
              "      <td>0.0</td>\n",
              "      <td>0.0</td>\n",
              "      <td>1.0</td>\n",
              "      <td>0.0</td>\n",
              "      <td>0.0</td>\n",
              "      <td>0.0</td>\n",
              "      <td>0.0</td>\n",
              "      <td>0.0</td>\n",
              "      <td>0.0</td>\n",
              "      <td>0.0</td>\n",
              "      <td>1.0</td>\n",
              "      <td>0.0</td>\n",
              "      <td>1.0</td>\n",
              "      <td>0.0</td>\n",
              "    </tr>\n",
              "    <tr>\n",
              "      <th>3</th>\n",
              "      <td>0.0</td>\n",
              "      <td>0.0</td>\n",
              "      <td>1.0</td>\n",
              "      <td>0.0</td>\n",
              "      <td>0.0</td>\n",
              "      <td>0.0</td>\n",
              "      <td>0.0</td>\n",
              "      <td>1.0</td>\n",
              "      <td>0.0</td>\n",
              "      <td>0.0</td>\n",
              "      <td>0.0</td>\n",
              "      <td>0.0</td>\n",
              "      <td>0.0</td>\n",
              "      <td>0.0</td>\n",
              "      <td>0.0</td>\n",
              "      <td>0.0</td>\n",
              "      <td>0.0</td>\n",
              "      <td>1.0</td>\n",
              "      <td>0.0</td>\n",
              "      <td>1.0</td>\n",
              "    </tr>\n",
              "    <tr>\n",
              "      <th>4</th>\n",
              "      <td>0.0</td>\n",
              "      <td>0.0</td>\n",
              "      <td>0.0</td>\n",
              "      <td>1.0</td>\n",
              "      <td>0.0</td>\n",
              "      <td>0.0</td>\n",
              "      <td>0.0</td>\n",
              "      <td>0.0</td>\n",
              "      <td>1.0</td>\n",
              "      <td>0.0</td>\n",
              "      <td>0.0</td>\n",
              "      <td>0.0</td>\n",
              "      <td>0.0</td>\n",
              "      <td>0.0</td>\n",
              "      <td>0.0</td>\n",
              "      <td>0.0</td>\n",
              "      <td>1.0</td>\n",
              "      <td>0.0</td>\n",
              "      <td>0.0</td>\n",
              "      <td>1.0</td>\n",
              "    </tr>\n",
              "  </tbody>\n",
              "</table>\n",
              "</div>"
            ],
            "text/plain": [
              "   africa  asia  europe  oceania  south america  ...   GK   MF   ST  left  right\n",
              "0     1.0   0.0     0.0      0.0            0.0  ...  0.0  0.0  0.0   0.0    1.0\n",
              "1     0.0   0.0     1.0      0.0            0.0  ...  0.0  1.0  0.0   0.0    1.0\n",
              "2     0.0   1.0     0.0      0.0            0.0  ...  0.0  1.0  0.0   1.0    0.0\n",
              "3     0.0   0.0     1.0      0.0            0.0  ...  0.0  0.0  1.0   0.0    1.0\n",
              "4     0.0   0.0     0.0      1.0            0.0  ...  0.0  1.0  0.0   0.0    1.0\n",
              "\n",
              "[5 rows x 20 columns]"
            ]
          },
          "metadata": {
            "tags": []
          },
          "execution_count": 30
        }
      ]
    },
    {
      "cell_type": "code",
      "metadata": {
        "id": "nnsxRVlz0UCL"
      },
      "source": [
        "new_x_train_cat = new_x_all.iloc[:x_train.shape[0], :]\n",
        "new_x_valid_cat = new_x_all.iloc[x_train.shape[0]:new_x_all.shape[0] - x_test.shape[0], :]\n",
        "new_x_test_cat = new_x_all.iloc[new_x_all.shape[0] - x_test.shape[0]:, :]"
      ],
      "execution_count": 31,
      "outputs": []
    },
    {
      "cell_type": "code",
      "metadata": {
        "id": "EGEgnwJJ0vB4",
        "outputId": "2201a4e0-c59f-4cdb-8b79-e65377373620",
        "colab": {
          "base_uri": "https://localhost:8080/",
          "height": 34
        }
      },
      "source": [
        "new_x_train_cat.shape, x_train.shape"
      ],
      "execution_count": 32,
      "outputs": [
        {
          "output_type": "execute_result",
          "data": {
            "text/plain": [
              "((6252, 20), (6252, 9))"
            ]
          },
          "metadata": {
            "tags": []
          },
          "execution_count": 32
        }
      ]
    },
    {
      "cell_type": "code",
      "metadata": {
        "id": "kGCtFLUm0yv1",
        "outputId": "1f658573-727b-4aec-c87d-c5c493ca5b89",
        "colab": {
          "base_uri": "https://localhost:8080/",
          "height": 34
        }
      },
      "source": [
        "new_x_valid_cat.shape, x_valid.shape"
      ],
      "execution_count": 33,
      "outputs": [
        {
          "output_type": "execute_result",
          "data": {
            "text/plain": [
              "((2680, 20), (2680, 9))"
            ]
          },
          "metadata": {
            "tags": []
          },
          "execution_count": 33
        }
      ]
    },
    {
      "cell_type": "code",
      "metadata": {
        "id": "gJLoKR0v3IiR",
        "outputId": "d29a5b38-f7ef-4d81-981a-5dbd9b465921",
        "colab": {
          "base_uri": "https://localhost:8080/",
          "height": 34
        }
      },
      "source": [
        "new_x_test_cat.shape, x_test.shape"
      ],
      "execution_count": 34,
      "outputs": [
        {
          "output_type": "execute_result",
          "data": {
            "text/plain": [
              "((3828, 20), (3828, 9))"
            ]
          },
          "metadata": {
            "tags": []
          },
          "execution_count": 34
        }
      ]
    },
    {
      "cell_type": "code",
      "metadata": {
        "id": "hS2HNTQZ3L0g"
      },
      "source": [
        "# 인덱스 초기화\n",
        "new_x_train_cat.reset_index(drop=True, inplace=True)\n",
        "new_x_valid_cat.reset_index(drop=True, inplace=True)\n",
        "new_x_test_cat.reset_index(drop=True, inplace=True)"
      ],
      "execution_count": 35,
      "outputs": []
    },
    {
      "cell_type": "code",
      "metadata": {
        "id": "8MGD-jEN3Ypd"
      },
      "source": [
        "# 기존 범주형 변수 제거, 새로운 변수 추가\n",
        "x_train.drop(columns = cat_columns, inplace=True)\n",
        "x_valid.drop(columns = cat_columns, inplace=True)\n",
        "x_test.drop(columns = cat_columns, inplace=True)"
      ],
      "execution_count": 36,
      "outputs": []
    },
    {
      "cell_type": "code",
      "metadata": {
        "id": "VY298eGP3qC3"
      },
      "source": [
        "x_train = pd.concat([x_train, new_x_train_cat], axis=1)\n",
        "x_valid = pd.concat([x_valid, new_x_valid_cat], axis=1)\n",
        "x_test = pd.concat([x_test, new_x_test_cat], axis=1)"
      ],
      "execution_count": 37,
      "outputs": []
    },
    {
      "cell_type": "code",
      "metadata": {
        "id": "68OV2BD731m9",
        "outputId": "2b1d9591-9047-4346-c934-cb811e60f896",
        "colab": {
          "base_uri": "https://localhost:8080/",
          "height": 179
        }
      },
      "source": [
        "# 확인\n",
        "x_train.head(3)"
      ],
      "execution_count": 38,
      "outputs": [
        {
          "output_type": "execute_result",
          "data": {
            "text/html": [
              "<div>\n",
              "<style scoped>\n",
              "    .dataframe tbody tr th:only-of-type {\n",
              "        vertical-align: middle;\n",
              "    }\n",
              "\n",
              "    .dataframe tbody tr th {\n",
              "        vertical-align: top;\n",
              "    }\n",
              "\n",
              "    .dataframe thead th {\n",
              "        text-align: right;\n",
              "    }\n",
              "</style>\n",
              "<table border=\"1\" class=\"dataframe\">\n",
              "  <thead>\n",
              "    <tr style=\"text-align: right;\">\n",
              "      <th></th>\n",
              "      <th>age</th>\n",
              "      <th>reputation</th>\n",
              "      <th>stat_overall</th>\n",
              "      <th>stat_potential</th>\n",
              "      <th>stat_skill_moves</th>\n",
              "      <th>africa</th>\n",
              "      <th>asia</th>\n",
              "      <th>europe</th>\n",
              "      <th>oceania</th>\n",
              "      <th>south america</th>\n",
              "      <th>2018</th>\n",
              "      <th>2019</th>\n",
              "      <th>2020</th>\n",
              "      <th>2021</th>\n",
              "      <th>2022</th>\n",
              "      <th>2023</th>\n",
              "      <th>2024</th>\n",
              "      <th>2025</th>\n",
              "      <th>2026</th>\n",
              "      <th>DF</th>\n",
              "      <th>GK</th>\n",
              "      <th>MF</th>\n",
              "      <th>ST</th>\n",
              "      <th>left</th>\n",
              "      <th>right</th>\n",
              "    </tr>\n",
              "  </thead>\n",
              "  <tbody>\n",
              "    <tr>\n",
              "      <th>0</th>\n",
              "      <td>-0.476594</td>\n",
              "      <td>-0.308843</td>\n",
              "      <td>0.862039</td>\n",
              "      <td>1.336515</td>\n",
              "      <td>0.770999</td>\n",
              "      <td>1.0</td>\n",
              "      <td>0.0</td>\n",
              "      <td>0.0</td>\n",
              "      <td>0.0</td>\n",
              "      <td>0.0</td>\n",
              "      <td>0.0</td>\n",
              "      <td>1.0</td>\n",
              "      <td>0.0</td>\n",
              "      <td>0.0</td>\n",
              "      <td>0.0</td>\n",
              "      <td>0.0</td>\n",
              "      <td>0.0</td>\n",
              "      <td>0.0</td>\n",
              "      <td>0.0</td>\n",
              "      <td>1.0</td>\n",
              "      <td>0.0</td>\n",
              "      <td>0.0</td>\n",
              "      <td>0.0</td>\n",
              "      <td>0.0</td>\n",
              "      <td>1.0</td>\n",
              "    </tr>\n",
              "    <tr>\n",
              "      <th>1</th>\n",
              "      <td>0.386357</td>\n",
              "      <td>-0.308843</td>\n",
              "      <td>-0.305073</td>\n",
              "      <td>-1.168574</td>\n",
              "      <td>0.770999</td>\n",
              "      <td>0.0</td>\n",
              "      <td>0.0</td>\n",
              "      <td>1.0</td>\n",
              "      <td>0.0</td>\n",
              "      <td>0.0</td>\n",
              "      <td>0.0</td>\n",
              "      <td>1.0</td>\n",
              "      <td>0.0</td>\n",
              "      <td>0.0</td>\n",
              "      <td>0.0</td>\n",
              "      <td>0.0</td>\n",
              "      <td>0.0</td>\n",
              "      <td>0.0</td>\n",
              "      <td>0.0</td>\n",
              "      <td>0.0</td>\n",
              "      <td>0.0</td>\n",
              "      <td>1.0</td>\n",
              "      <td>0.0</td>\n",
              "      <td>0.0</td>\n",
              "      <td>1.0</td>\n",
              "    </tr>\n",
              "    <tr>\n",
              "      <th>2</th>\n",
              "      <td>0.170619</td>\n",
              "      <td>-0.308843</td>\n",
              "      <td>-0.596851</td>\n",
              "      <td>-1.502586</td>\n",
              "      <td>-0.517654</td>\n",
              "      <td>0.0</td>\n",
              "      <td>1.0</td>\n",
              "      <td>0.0</td>\n",
              "      <td>0.0</td>\n",
              "      <td>0.0</td>\n",
              "      <td>0.0</td>\n",
              "      <td>0.0</td>\n",
              "      <td>0.0</td>\n",
              "      <td>1.0</td>\n",
              "      <td>0.0</td>\n",
              "      <td>0.0</td>\n",
              "      <td>0.0</td>\n",
              "      <td>0.0</td>\n",
              "      <td>0.0</td>\n",
              "      <td>0.0</td>\n",
              "      <td>0.0</td>\n",
              "      <td>1.0</td>\n",
              "      <td>0.0</td>\n",
              "      <td>1.0</td>\n",
              "      <td>0.0</td>\n",
              "    </tr>\n",
              "  </tbody>\n",
              "</table>\n",
              "</div>"
            ],
            "text/plain": [
              "        age  reputation  stat_overall  stat_potential  ...   MF   ST  left  right\n",
              "0 -0.476594   -0.308843      0.862039        1.336515  ...  0.0  0.0   0.0    1.0\n",
              "1  0.386357   -0.308843     -0.305073       -1.168574  ...  1.0  0.0   0.0    1.0\n",
              "2  0.170619   -0.308843     -0.596851       -1.502586  ...  1.0  0.0   1.0    0.0\n",
              "\n",
              "[3 rows x 25 columns]"
            ]
          },
          "metadata": {
            "tags": []
          },
          "execution_count": 38
        }
      ]
    },
    {
      "cell_type": "code",
      "metadata": {
        "id": "0IGsLebc4CIl",
        "outputId": "22e0a8ad-3bf3-4d34-8b80-952ffefee303",
        "colab": {
          "base_uri": "https://localhost:8080/",
          "height": 307
        }
      },
      "source": [
        "# 라벨 변수 분포 확인하기\n",
        "import seaborn as sns\n",
        "\n",
        "sns.distplot(y_train)"
      ],
      "execution_count": 39,
      "outputs": [
        {
          "output_type": "execute_result",
          "data": {
            "text/plain": [
              "<matplotlib.axes._subplots.AxesSubplot at 0x7f8b51a0c1d0>"
            ]
          },
          "metadata": {
            "tags": []
          },
          "execution_count": 39
        },
        {
          "output_type": "display_data",
          "data": {
            "image/png": "[encoded data removed]",
            "text/plain": [
              "<Figure size 432x288 with 1 Axes>"
            ]
          },
          "metadata": {
            "tags": [],
            "needs_background": "light"
          }
        }
      ]
    },
    {
      "cell_type": "code",
      "metadata": {
        "id": "Y6XxYFja4YaM",
        "outputId": "62d313d0-dfaf-4c7f-e8c0-16659700ecde",
        "colab": {
          "base_uri": "https://localhost:8080/",
          "height": 307
        }
      },
      "source": [
        "sns.distplot(y_valid)"
      ],
      "execution_count": 40,
      "outputs": [
        {
          "output_type": "execute_result",
          "data": {
            "text/plain": [
              "<matplotlib.axes._subplots.AxesSubplot at 0x7f8b50753a58>"
            ]
          },
          "metadata": {
            "tags": []
          },
          "execution_count": 40
        },
        {
          "output_type": "display_data",
          "data": {
            "image/png": "[encoded data removed]",
            "text/plain": [
              "<Figure size 432x288 with 1 Axes>"
            ]
          },
          "metadata": {
            "tags": [],
            "needs_background": "light"
          }
        }
      ]
    },
    {
      "cell_type": "code",
      "metadata": {
        "id": "OvvfQoLN4kHv"
      },
      "source": [
        "# log 변환\n",
        "y_train = np.log1p(y_train)\n",
        "y_valid = np.log1p(y_valid)"
      ],
      "execution_count": 41,
      "outputs": []
    },
    {
      "cell_type": "code",
      "metadata": {
        "id": "F1fziMXB4rG9",
        "outputId": "4fabf98b-18fb-4d19-975e-7080620c0967",
        "colab": {
          "base_uri": "https://localhost:8080/",
          "height": 296
        }
      },
      "source": [
        "sns.distplot(y_train)"
      ],
      "execution_count": 42,
      "outputs": [
        {
          "output_type": "execute_result",
          "data": {
            "text/plain": [
              "<matplotlib.axes._subplots.AxesSubplot at 0x7f8b5063f9e8>"
            ]
          },
          "metadata": {
            "tags": []
          },
          "execution_count": 42
        },
        {
          "output_type": "display_data",
          "data": {
            "image/png": "[encoded data removed]",
            "text/plain": [
              "<Figure size 432x288 with 1 Axes>"
            ]
          },
          "metadata": {
            "tags": [],
            "needs_background": "light"
          }
        }
      ]
    },
    {
      "cell_type": "code",
      "metadata": {
        "id": "cQ1tgaKL4sy5",
        "outputId": "c5177130-dcb1-4379-b434-86f16337b66e",
        "colab": {
          "base_uri": "https://localhost:8080/",
          "height": 296
        }
      },
      "source": [
        "sns.distplot(y_valid)"
      ],
      "execution_count": 43,
      "outputs": [
        {
          "output_type": "execute_result",
          "data": {
            "text/plain": [
              "<matplotlib.axes._subplots.AxesSubplot at 0x7f8b50670128>"
            ]
          },
          "metadata": {
            "tags": []
          },
          "execution_count": 43
        },
        {
          "output_type": "display_data",
          "data": {
            "image/png": "[encoded data removed]",
            "text/plain": [
              "<Figure size 432x288 with 1 Axes>"
            ]
          },
          "metadata": {
            "tags": [],
            "needs_background": "light"
          }
        }
      ]
    },
    {
      "cell_type": "markdown",
      "metadata": {
        "id": "XNt-g1i24vSg"
      },
      "source": [
        "---"
      ]
    },
    {
      "cell_type": "markdown",
      "metadata": {
        "id": "b3wLhXhT4wSP"
      },
      "source": [
        "### Linear Regression\n",
        "\n",
        "[선형 회귀분석의 4가지 기본 가정](https://kkokkilkon.tistory.com/175)"
      ]
    },
    {
      "cell_type": "code",
      "metadata": {
        "id": "ho7OLpcr4uGM"
      },
      "source": [
        "from sklearn.linear_model import LinearRegression\n",
        "lr = LinearRegression()"
      ],
      "execution_count": 44,
      "outputs": []
    },
    {
      "cell_type": "code",
      "metadata": {
        "id": "DgQXKkcT5Tdu",
        "outputId": "12235640-625b-4f68-e9c5-e49e41671fab",
        "colab": {
          "base_uri": "https://localhost:8080/",
          "height": 34
        }
      },
      "source": [
        "lr.fit(x_train, y_train)"
      ],
      "execution_count": 45,
      "outputs": [
        {
          "output_type": "execute_result",
          "data": {
            "text/plain": [
              "LinearRegression(copy_X=True, fit_intercept=True, n_jobs=None, normalize=False)"
            ]
          },
          "metadata": {
            "tags": []
          },
          "execution_count": 45
        }
      ]
    },
    {
      "cell_type": "code",
      "metadata": {
        "id": "x95M4ciT5VZa"
      },
      "source": [
        "pred_lr = lr.predict(x_valid)"
      ],
      "execution_count": 46,
      "outputs": []
    },
    {
      "cell_type": "code",
      "metadata": {
        "id": "O8rD9D7Q5YVc",
        "outputId": "b45648c3-2a5d-4023-c2ef-5ed254c6be2a",
        "colab": {
          "base_uri": "https://localhost:8080/",
          "height": 34
        }
      },
      "source": [
        "from sklearn.metrics import r2_score\n",
        "print('Linear Regression R-sqaure score : {:.4f}'.format(r2_score(y_valid, pred_lr)))"
      ],
      "execution_count": 47,
      "outputs": [
        {
          "output_type": "stream",
          "text": [
            "Linear Regression R-sqaure score : 0.9711\n"
          ],
          "name": "stdout"
        }
      ]
    },
    {
      "cell_type": "code",
      "metadata": {
        "id": "zM2UNNev5mSz",
        "outputId": "4cd0959d-34b2-446a-beca-eca4f3aabb6b",
        "colab": {
          "base_uri": "https://localhost:8080/",
          "height": 136
        }
      },
      "source": [
        "# 계수와 절편 살펴보기\n",
        "print('Linear Regression Coefficient: {}, Intercept: {:.4f}'.format(lr.coef_, lr.intercept_))"
      ],
      "execution_count": 48,
      "outputs": [
        {
          "output_type": "stream",
          "text": [
            "Linear Regression Coefficient: [-4.74454198e-01 -3.46332015e-03  1.55752418e+00 -4.63853960e-02\n",
            "  2.65914636e-02 -3.51328931e-04  1.40781690e-02 -2.01164094e-02\n",
            "  3.35952128e-03  3.03004801e-03  5.37476151e-02  5.43049470e-02\n",
            "  8.26055443e-02  8.49758490e-02  6.66019667e-02  2.19787168e-02\n",
            " -2.35213359e-01  5.43127408e-02 -1.83314021e-01 -5.84421888e-02\n",
            " -1.35721895e-01  7.13580599e-02  1.22806024e-01 -6.07984290e-03\n",
            "  6.07984290e-03], Intercept: 13.7144\n"
          ],
          "name": "stdout"
        }
      ]
    },
    {
      "cell_type": "markdown",
      "metadata": {
        "id": "Nf6lGPMD54X7"
      },
      "source": [
        "### Lasso\n",
        "\n",
        "* Lasso는 기존 선형회귀 모델에서 손실 함수에 L1 정규화 항 추가\n",
        "* 특정 coefficient가 매우 낮으면 해당 값을 0으로 만듬"
      ]
    },
    {
      "cell_type": "code",
      "metadata": {
        "id": "KhFR8hie5q1l"
      },
      "source": [
        "from sklearn.linear_model import Lasso\n",
        "lasso = Lasso()"
      ],
      "execution_count": 49,
      "outputs": []
    },
    {
      "cell_type": "code",
      "metadata": {
        "id": "eHZr_A0-AyZ0",
        "outputId": "4d4cd923-cdf3-4aba-a278-e393eb911390",
        "colab": {
          "base_uri": "https://localhost:8080/",
          "height": 68
        }
      },
      "source": [
        "lasso.fit(x_train, y_train)"
      ],
      "execution_count": 50,
      "outputs": [
        {
          "output_type": "execute_result",
          "data": {
            "text/plain": [
              "Lasso(alpha=1.0, copy_X=True, fit_intercept=True, max_iter=1000,\n",
              "      normalize=False, positive=False, precompute=False, random_state=None,\n",
              "      selection='cyclic', tol=0.0001, warm_start=False)"
            ]
          },
          "metadata": {
            "tags": []
          },
          "execution_count": 50
        }
      ]
    },
    {
      "cell_type": "code",
      "metadata": {
        "id": "RAB1BH_UA0fD"
      },
      "source": [
        "pred_lasso = lasso.predict(x_valid)"
      ],
      "execution_count": 51,
      "outputs": []
    },
    {
      "cell_type": "code",
      "metadata": {
        "id": "FPPgNchFA5nC",
        "outputId": "1444aa96-dd38-4045-b9d1-0a2ca8e8a9a7",
        "colab": {
          "base_uri": "https://localhost:8080/",
          "height": 34
        }
      },
      "source": [
        "print('Lasso R-sqaure score: {:.4f}'.format(r2_score(y_valid, pred_lasso)))"
      ],
      "execution_count": 52,
      "outputs": [
        {
          "output_type": "stream",
          "text": [
            "Lasso R-sqaure score: 0.3698\n"
          ],
          "name": "stdout"
        }
      ]
    },
    {
      "cell_type": "code",
      "metadata": {
        "id": "d6oOm9cTBDWz",
        "outputId": "22fe41c0-7837-4486-dee5-6794dc941879",
        "colab": {
          "base_uri": "https://localhost:8080/",
          "height": 102
        }
      },
      "source": [
        "print('Lasso Coefficient: {}, Intercept: {:.4f}'.format(lasso.coef_, lasso.intercept_))"
      ],
      "execution_count": 53,
      "outputs": [
        {
          "output_type": "stream",
          "text": [
            "Lasso Coefficient: [ 0.          0.          0.30830469  0.          0.          0.\n",
            " -0.          0.         -0.          0.         -0.         -0.\n",
            "  0.         -0.          0.          0.          0.          0.\n",
            "  0.         -0.         -0.          0.          0.          0.\n",
            " -0.        ], Intercept: 13.7988\n"
          ],
          "name": "stdout"
        }
      ]
    },
    {
      "cell_type": "markdown",
      "metadata": {
        "id": "IAQkCyoNBVe_"
      },
      "source": [
        "### Ridge\n",
        "\n",
        "* Ridge는 기존 선형회귀 모델에서 손실 함수에 L2 정규화 항 추가\n",
        "* 영향을 거의 미치지 않는 변수를 0에 가까운 값으로 수렴시킴 (0이 아님)"
      ]
    },
    {
      "cell_type": "code",
      "metadata": {
        "id": "Sgjnon2JBSLq"
      },
      "source": [
        "from sklearn.linear_model import Ridge\n",
        "ridge = Ridge()"
      ],
      "execution_count": 54,
      "outputs": []
    },
    {
      "cell_type": "code",
      "metadata": {
        "id": "oN_S1hqmCSpD",
        "outputId": "df8e4fac-f8fb-4e3b-9241-8a0ffcb24398",
        "colab": {
          "base_uri": "https://localhost:8080/",
          "height": 51
        }
      },
      "source": [
        "ridge.fit(x_train, y_train)"
      ],
      "execution_count": 55,
      "outputs": [
        {
          "output_type": "execute_result",
          "data": {
            "text/plain": [
              "Ridge(alpha=1.0, copy_X=True, fit_intercept=True, max_iter=None,\n",
              "      normalize=False, random_state=None, solver='auto', tol=0.001)"
            ]
          },
          "metadata": {
            "tags": []
          },
          "execution_count": 55
        }
      ]
    },
    {
      "cell_type": "code",
      "metadata": {
        "id": "B-Me5MLACUdC"
      },
      "source": [
        "pred_ridge = ridge.predict(x_valid)"
      ],
      "execution_count": 56,
      "outputs": []
    },
    {
      "cell_type": "code",
      "metadata": {
        "id": "YdIEPF7pCbXV",
        "outputId": "85fffced-76e2-4460-fd5b-c75d3562d4fc",
        "colab": {
          "base_uri": "https://localhost:8080/",
          "height": 34
        }
      },
      "source": [
        "print('Ridge R-square score: {:.4f}'.format(r2_score(y_valid, pred_ridge)))"
      ],
      "execution_count": 57,
      "outputs": [
        {
          "output_type": "stream",
          "text": [
            "Ridge R-square score: 0.9711\n"
          ],
          "name": "stdout"
        }
      ]
    },
    {
      "cell_type": "code",
      "metadata": {
        "id": "LmOzKKW9CiTs",
        "outputId": "2f45a9d3-df5a-4f5b-dfc9-9040370f3626",
        "colab": {
          "base_uri": "https://localhost:8080/",
          "height": 136
        }
      },
      "source": [
        "print('Ridge Coefficient: {}, Intercept: {:.4f}'.format(ridge.coef_, ridge.intercept_))"
      ],
      "execution_count": 58,
      "outputs": [
        {
          "output_type": "stream",
          "text": [
            "Ridge Coefficient: [-4.72797643e-01 -3.53019776e-03  1.55502472e+00 -4.46111031e-02\n",
            "  2.70872510e-02 -1.69613269e-04  1.39086757e-02 -2.00587232e-02\n",
            "  3.32904059e-03  2.99062019e-03  3.99899410e-02  4.06647992e-02\n",
            "  6.91382121e-02  7.14853463e-02  5.33915822e-02  8.67699670e-03\n",
            " -2.16042642e-01  3.00004562e-02 -9.73046921e-02 -5.83058857e-02\n",
            " -1.35266224e-01  7.10534947e-02  1.22518616e-01 -6.12930654e-03\n",
            "  6.12930654e-03], Intercept: 13.7279\n"
          ],
          "name": "stdout"
        }
      ]
    },
    {
      "cell_type": "markdown",
      "metadata": {
        "id": "WL7h2T28Cudw"
      },
      "source": [
        "### Multi Layer Perceptron Regressor"
      ]
    },
    {
      "cell_type": "code",
      "metadata": {
        "id": "OH0m_l_gCs6_"
      },
      "source": [
        "from sklearn.neural_network import MLPRegressor\n",
        "mlp = MLPRegressor()"
      ],
      "execution_count": 59,
      "outputs": []
    },
    {
      "cell_type": "code",
      "metadata": {
        "id": "UWYmleZ7Dsu3",
        "outputId": "bf1c2880-6faf-418c-d016-c760cf8b5975",
        "colab": {
          "base_uri": "https://localhost:8080/",
          "height": 153
        }
      },
      "source": [
        "mlp.fit(x_train, y_train)"
      ],
      "execution_count": 60,
      "outputs": [
        {
          "output_type": "execute_result",
          "data": {
            "text/plain": [
              "MLPRegressor(activation='relu', alpha=0.0001, batch_size='auto', beta_1=0.9,\n",
              "             beta_2=0.999, early_stopping=False, epsilon=1e-08,\n",
              "             hidden_layer_sizes=(100,), learning_rate='constant',\n",
              "             learning_rate_init=0.001, max_fun=15000, max_iter=200,\n",
              "             momentum=0.9, n_iter_no_change=10, nesterovs_momentum=True,\n",
              "             power_t=0.5, random_state=None, shuffle=True, solver='adam',\n",
              "             tol=0.0001, validation_fraction=0.1, verbose=False,\n",
              "             warm_start=False)"
            ]
          },
          "metadata": {
            "tags": []
          },
          "execution_count": 60
        }
      ]
    },
    {
      "cell_type": "code",
      "metadata": {
        "id": "nL170zCrDxSV"
      },
      "source": [
        "pred_mlp = mlp.predict(x_valid)"
      ],
      "execution_count": 61,
      "outputs": []
    },
    {
      "cell_type": "code",
      "metadata": {
        "id": "U1Fvm7EMD1cF",
        "outputId": "261f4527-9082-49cd-8a08-830ef9540393",
        "colab": {
          "base_uri": "https://localhost:8080/",
          "height": 34
        }
      },
      "source": [
        "print('simple MLP regressor R-square Score: {:.4f}'.format(r2_score(y_valid, pred_mlp)))"
      ],
      "execution_count": 62,
      "outputs": [
        {
          "output_type": "stream",
          "text": [
            "simple MLP regressor R-square Score: 0.9932\n"
          ],
          "name": "stdout"
        }
      ]
    },
    {
      "cell_type": "code",
      "metadata": {
        "id": "TR4IdFk8D96N",
        "outputId": "5c90df5b-c2ea-4b64-afe7-dfe19c456b95",
        "colab": {
          "base_uri": "https://localhost:8080/",
          "height": 1000
        }
      },
      "source": [
        "print('MLP Coefficient and Intercept : {}'.format(mlp.coefs_))"
      ],
      "execution_count": 63,
      "outputs": [
        {
          "output_type": "stream",
          "text": [
            "MLP Coefficient and Intercept : [array([[ 0.09025088,  0.40252942, -0.1512851 , ...,  0.04350027,\n",
            "        -0.16681102, -0.20659126],\n",
            "       [ 0.02940698,  0.05070576, -0.08465993, ...,  0.10473275,\n",
            "         0.09021432,  0.06360382],\n",
            "       [ 0.29008564, -0.14247685, -0.99983668, ...,  0.27287609,\n",
            "         0.03459527, -0.02632106],\n",
            "       ...,\n",
            "       [-0.00925879,  0.06805087,  0.00815686, ...,  0.02118996,\n",
            "         0.29080278,  0.04346528],\n",
            "       [-0.03287745, -0.08846323,  0.12190825, ...,  0.36112441,\n",
            "         0.18906323,  0.11002258],\n",
            "       [ 0.34271352,  0.05886449,  0.12163729, ...,  0.12875541,\n",
            "         0.24905058,  0.34273849]]), array([[ 0.39296259],\n",
            "       [-0.15952455],\n",
            "       [ 0.17116646],\n",
            "       [-0.21353796],\n",
            "       [ 0.24196448],\n",
            "       [ 0.38929687],\n",
            "       [-0.03427698],\n",
            "       [-0.09553108],\n",
            "       [ 0.27406365],\n",
            "       [-0.18432057],\n",
            "       [ 0.03397625],\n",
            "       [ 0.2502867 ],\n",
            "       [-0.11002743],\n",
            "       [ 0.37865428],\n",
            "       [-0.11450838],\n",
            "       [ 0.35259116],\n",
            "       [ 0.37377836],\n",
            "       [ 0.25006134],\n",
            "       [ 0.18714223],\n",
            "       [ 0.33686933],\n",
            "       [ 0.27565961],\n",
            "       [ 0.40722427],\n",
            "       [ 0.33624158],\n",
            "       [ 0.37620556],\n",
            "       [ 0.30528339],\n",
            "       [-0.04672868],\n",
            "       [-0.38895566],\n",
            "       [ 0.19074573],\n",
            "       [ 0.35365618],\n",
            "       [ 0.24934999],\n",
            "       [-0.15025254],\n",
            "       [ 0.39347686],\n",
            "       [ 0.31625322],\n",
            "       [-0.17193332],\n",
            "       [-0.17443575],\n",
            "       [ 0.23865412],\n",
            "       [ 0.42208172],\n",
            "       [ 0.18791536],\n",
            "       [-0.18240212],\n",
            "       [ 0.0281937 ],\n",
            "       [ 0.33950204],\n",
            "       [ 0.37234981],\n",
            "       [ 0.20244781],\n",
            "       [ 0.21533376],\n",
            "       [-0.25524653],\n",
            "       [-0.4174138 ],\n",
            "       [ 0.18558151],\n",
            "       [ 0.28831449],\n",
            "       [-0.15963875],\n",
            "       [-0.16244597],\n",
            "       [ 0.1729861 ],\n",
            "       [-0.1391245 ],\n",
            "       [ 0.32470179],\n",
            "       [-0.08874968],\n",
            "       [ 0.27185053],\n",
            "       [ 0.28733949],\n",
            "       [ 0.20750804],\n",
            "       [-0.16156657],\n",
            "       [-0.08124859],\n",
            "       [-0.11082155],\n",
            "       [ 0.29096324],\n",
            "       [-0.00882019],\n",
            "       [-0.84980052],\n",
            "       [ 0.28252183],\n",
            "       [-0.07391023],\n",
            "       [ 0.29585572],\n",
            "       [ 0.1688299 ],\n",
            "       [ 0.39003533],\n",
            "       [-0.04369384],\n",
            "       [ 0.3970091 ],\n",
            "       [ 0.17515566],\n",
            "       [-0.12786807],\n",
            "       [-0.17514647],\n",
            "       [-0.1440675 ],\n",
            "       [ 0.37749074],\n",
            "       [ 0.39652683],\n",
            "       [-0.11485765],\n",
            "       [ 0.13583866],\n",
            "       [-0.1100313 ],\n",
            "       [ 0.24564803],\n",
            "       [ 0.10766479],\n",
            "       [ 0.32593353],\n",
            "       [ 0.22731778],\n",
            "       [-0.12850911],\n",
            "       [-0.22772829],\n",
            "       [-0.22336111],\n",
            "       [-0.71424407],\n",
            "       [ 0.24377204],\n",
            "       [-0.27643679],\n",
            "       [-0.06637238],\n",
            "       [ 0.21465352],\n",
            "       [-0.11823152],\n",
            "       [-0.04895411],\n",
            "       [ 0.34832882],\n",
            "       [-0.1698632 ],\n",
            "       [-0.143452  ],\n",
            "       [-0.12197303],\n",
            "       [ 0.26229793],\n",
            "       [ 0.16893862],\n",
            "       [ 0.21908271]])]\n"
          ],
          "name": "stdout"
        }
      ]
    },
    {
      "cell_type": "markdown",
      "metadata": {
        "id": "QbSfWjbREdVL"
      },
      "source": [
        "### Support Vector Machine Regressor"
      ]
    },
    {
      "cell_type": "code",
      "metadata": {
        "id": "gLlvCPoWEYjy"
      },
      "source": [
        "from sklearn.svm import SVR\n",
        "svr = SVR()"
      ],
      "execution_count": 64,
      "outputs": []
    },
    {
      "cell_type": "code",
      "metadata": {
        "id": "cRkBt5ItEkR_",
        "outputId": "48f38d75-583d-4cde-ae2f-54838dc9b974",
        "colab": {
          "base_uri": "https://localhost:8080/",
          "height": 51
        }
      },
      "source": [
        "svr.fit(x_train, y_train)"
      ],
      "execution_count": 65,
      "outputs": [
        {
          "output_type": "execute_result",
          "data": {
            "text/plain": [
              "SVR(C=1.0, cache_size=200, coef0=0.0, degree=3, epsilon=0.1, gamma='scale',\n",
              "    kernel='rbf', max_iter=-1, shrinking=True, tol=0.001, verbose=False)"
            ]
          },
          "metadata": {
            "tags": []
          },
          "execution_count": 65
        }
      ]
    },
    {
      "cell_type": "code",
      "metadata": {
        "id": "7hee_oi2EmQP"
      },
      "source": [
        "pred_svr = svr.predict(x_valid)"
      ],
      "execution_count": 66,
      "outputs": []
    },
    {
      "cell_type": "code",
      "metadata": {
        "id": "JfBll3ozEouE",
        "outputId": "d7ea3fdc-b5cd-4b25-e69f-9fa596060234",
        "colab": {
          "base_uri": "https://localhost:8080/",
          "height": 34
        }
      },
      "source": [
        "print('Support Vector Machine R-square score: {:.4f}'.format(r2_score(y_valid, pred_svr)))"
      ],
      "execution_count": 67,
      "outputs": [
        {
          "output_type": "stream",
          "text": [
            "Support Vector Machine R-square score: 0.9892\n"
          ],
          "name": "stdout"
        }
      ]
    },
    {
      "cell_type": "markdown",
      "metadata": {
        "id": "_a94gUPiIcL3"
      },
      "source": [
        "### Random Forest , XGBoost Regressor, LGBM Regressor"
      ]
    },
    {
      "cell_type": "markdown",
      "metadata": {
        "id": "e0VEmflYIngt"
      },
      "source": [
        "### Evaluation"
      ]
    },
    {
      "cell_type": "code",
      "metadata": {
        "id": "DK7wKi0yEv5o",
        "outputId": "1f6f2dad-716e-4338-b371-a611f8cb2b59",
        "colab": {
          "base_uri": "https://localhost:8080/",
          "height": 442
        }
      },
      "source": [
        "from sklearn.metrics import r2_score, mean_absolute_error, mean_squared_error\n",
        "\n",
        "preds = [pred_lr, pred_ridge, pred_lasso, pred_mlp, pred_mlp]\n",
        "\n",
        "for pred in preds:\n",
        "  print('r2 score : {:.3f}'.format(r2_score(y_valid, pred)))\n",
        "  print('MAE      : {:.6f}'.format(mean_absolute_error(y_valid, pred)))\n",
        "  print('MSE      : {:.6f}'.format(mean_squared_error(y_valid, pred)))\n",
        "  print('RMSE     : {:.6f}'.format(np.sqrt(mean_squared_error(y_valid, pred))))\n",
        "  print('------------')"
      ],
      "execution_count": 68,
      "outputs": [
        {
          "output_type": "stream",
          "text": [
            "r2 score : 0.971\n",
            "MAE      : 0.179981\n",
            "MSE      : 0.056870\n",
            "RMSE     : 0.238474\n",
            "------------\n",
            "r2 score : 0.971\n",
            "MAE      : 0.179843\n",
            "MSE      : 0.056829\n",
            "RMSE     : 0.238389\n",
            "------------\n",
            "r2 score : 0.370\n",
            "MAE      : 0.890804\n",
            "MSE      : 1.240564\n",
            "RMSE     : 1.113806\n",
            "------------\n",
            "r2 score : 0.993\n",
            "MAE      : 0.084424\n",
            "MSE      : 0.013387\n",
            "RMSE     : 0.115704\n",
            "------------\n",
            "r2 score : 0.993\n",
            "MAE      : 0.084424\n",
            "MSE      : 0.013387\n",
            "RMSE     : 0.115704\n",
            "------------\n"
          ],
          "name": "stdout"
        }
      ]
    }
  ]
}